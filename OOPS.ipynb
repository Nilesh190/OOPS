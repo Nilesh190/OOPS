{
  "nbformat": 4,
  "nbformat_minor": 0,
  "metadata": {
    "colab": {
      "provenance": []
    },
    "kernelspec": {
      "name": "python3",
      "display_name": "Python 3"
    },
    "language_info": {
      "name": "python"
    }
  },
  "cells": [
    {
      "cell_type": "markdown",
      "source": [
        "# **Python OOPs Questions**"
      ],
      "metadata": {
        "id": "nZjGo9LsyQS3"
      }
    },
    {
      "cell_type": "markdown",
      "source": [
        "1.  What is Object-Oriented Programming (OOP)?"
      ],
      "metadata": {
        "id": "yu-p5oLFyueN"
      }
    },
    {
      "cell_type": "markdown",
      "source": [
        "Object-Oriented Programming (OOP) is a programming paradigm that organizes code using objects and classes. It is used to structure programs in a way that is more modular, reusable, and scalable.\n",
        "\n"
      ],
      "metadata": {
        "id": "yP8M1R2408_s"
      }
    },
    {
      "cell_type": "markdown",
      "source": [
        "2. What is a class in OOP?"
      ],
      "metadata": {
        "id": "YNPjTtwF1HjI"
      }
    },
    {
      "cell_type": "markdown",
      "source": [
        "A class is a blueprint or template for creating objects in Object-Oriented Programming.\n",
        "- Attributes → data (variables)\n",
        "\n",
        "- Methods → behavior (functions)"
      ],
      "metadata": {
        "id": "pcDEyhI31Hfj"
      }
    },
    {
      "cell_type": "markdown",
      "source": [
        "3. What is an object in OOP?"
      ],
      "metadata": {
        "id": "DoqQOvfm1Hc-"
      }
    },
    {
      "cell_type": "markdown",
      "source": [
        "It is the actual entity that is created in memory using the class definition.\n",
        "While a class is like a blueprint, an object is the real thing built from that blueprint."
      ],
      "metadata": {
        "id": "sLwDv2hW1Haj"
      }
    },
    {
      "cell_type": "markdown",
      "source": [
        "4. What is the difference between abstraction and encapsulation?"
      ],
      "metadata": {
        "id": "-RkPoxex1HX3"
      }
    },
    {
      "cell_type": "markdown",
      "source": [
        "Abstraction is the process of hiding the internal implementation details of a system and showing only the essential features to the user.\n",
        "\n",
        "- It helps to focus on what an object does, instead of how it does it.\n",
        "\n",
        "- The goal is to reduce complexity and improve the clarity of the system.\n",
        "\n",
        "Encapsulation is the process of binding the data (variables) and code (methods) together and restricting direct access to some components of the object.\n",
        "- t ensures that the internal data of an object is protected from unauthorized access and misuse.\n",
        "\n",
        "- Data is typically made private, and access is provided through public methods (getters/setters).\n"
      ],
      "metadata": {
        "id": "EEMcUKUk1HVV"
      }
    },
    {
      "cell_type": "markdown",
      "source": [
        "5. What are dunder methods in Python?"
      ],
      "metadata": {
        "id": "udOOohZ82Myr"
      }
    },
    {
      "cell_type": "markdown",
      "source": [
        "Dunder methods (short for \"Double Underscore\" methods) are special methods in Python that begin and end with double underscores, like __init__, __str__, __len__, etc.\n",
        "These methods let you customize the behavior of Python’s built-in operations for your objects."
      ],
      "metadata": {
        "id": "_zvkmcm62hVq"
      }
    },
    {
      "cell_type": "markdown",
      "source": [
        "6. Explain the concept of inheritance in OOP."
      ],
      "metadata": {
        "id": "K-4d-b5O2hb_"
      }
    },
    {
      "cell_type": "markdown",
      "source": [
        "Inheritance is a fundamental concept in Object-Oriented Programming (OOP) that allows a new class (called the child or derived class) to inherit the properties and behaviors (attributes and methods) of an existing class (called the parent or base class).\n",
        "\n",
        "It helps in code reusability, reducing redundancy, and maintaining a hierarchical classification."
      ],
      "metadata": {
        "id": "LP4rMUEQ24Yz"
      }
    },
    {
      "cell_type": "markdown",
      "source": [
        "7. What is polymorphism in OOP?"
      ],
      "metadata": {
        "id": "MdiMiEx-3Kf_"
      }
    },
    {
      "cell_type": "markdown",
      "source": [
        "Polymorphism is a concept in OOP that means \"many forms.\"\n",
        "It allows objects of different classes to be treated as objects of a common superclass, typically through a shared method or interface, while each class can define its own version of that method."
      ],
      "metadata": {
        "id": "FsZ06MX93TvY"
      }
    },
    {
      "cell_type": "markdown",
      "source": [
        "8.  How is encapsulation achieved in Python?"
      ],
      "metadata": {
        "id": "ZY1BFJcs3fFL"
      }
    },
    {
      "cell_type": "markdown",
      "source": [
        "Encapsulation is a core concept of Object-Oriented Programming (OOP) that refers to the bundling of data (variables) and methods (functions) that operate on that data into a single unit — called a class.\n",
        "It also involves restricting direct access to some of the object’s components to ensure data protection and security.\n",
        "1. Using Classes:\n",
        "- Data and functions are grouped together using classes.\n",
        "2. Using Access Modifiers (Naming Conventions):\n",
        "- Public members: Can be accessed from anywhere.\n",
        "\n",
        "- Protected members (prefix _): Meant for internal use only.\n",
        "\n",
        "- Private members (prefix __): Not directly accessible from outside the class.\n",
        "3. Accessing Data through Methods:\n",
        "\n",
        "- Use getter methods to retrieve values.\n",
        "\n",
        "- Use setter methods to modify values securely."
      ],
      "metadata": {
        "id": "OHv12lQP3unZ"
      }
    },
    {
      "cell_type": "markdown",
      "source": [
        "9. What is a constructor in Python?"
      ],
      "metadata": {
        "id": "RtfYlL-W6exp"
      }
    },
    {
      "cell_type": "markdown",
      "source": [
        "A constructor is a special method in Python that is automatically called when a new object of a class is created.\n",
        "Its main purpose is to initialize the object’s attributes (i.e., set initial values)."
      ],
      "metadata": {
        "id": "V_3KG5k36U46"
      }
    },
    {
      "cell_type": "markdown",
      "source": [
        "10. What are class and static methods in Python?"
      ],
      "metadata": {
        "id": "vhM3EFqQ7cfd"
      }
    },
    {
      "cell_type": "markdown",
      "source": [
        "- Class Method:\n",
        "A class method is a method that is bound to the class, not the object.\n",
        "It can access and modify the class-level data, and it receives the class itself as the first argument, typically named cls.\n",
        "- Static Method: A static method is a method that does not depend on the instance or class.\n",
        "It does not take self or cls as the first parameter. It behaves like a regular function but belongs to the class's namespace."
      ],
      "metadata": {
        "id": "rDTelNsF7gHK"
      }
    },
    {
      "cell_type": "markdown",
      "source": [
        "11. What is method overloading in Python?"
      ],
      "metadata": {
        "id": "tpGayCjp7zmc"
      }
    },
    {
      "cell_type": "markdown",
      "source": [
        "Method Overloading is an object-oriented programming concept where multiple methods in the same class have the same name but different parameters (number or type).\n",
        "\n",
        "It allows a class to perform different tasks with the same method name, depending on how many or what kind of arguments are passed."
      ],
      "metadata": {
        "id": "4r5w6lEB77jg"
      }
    },
    {
      "cell_type": "markdown",
      "source": [
        "12. What is method overriding in OOP?"
      ],
      "metadata": {
        "id": "Ag9KzFNS8LqT"
      }
    },
    {
      "cell_type": "markdown",
      "source": [
        "Method Overriding is a feature in OOP where a child class provides its own implementation of a method that is already defined in its parent class, using the same method name, parameters, and return type.\n",
        "- To customize or extend the behavior of a method from the parent class.\n",
        "\n",
        "- To implement runtime polymorphism — the decision of which method to call is made at runtime, depending on the object."
      ],
      "metadata": {
        "id": "QpPkEDrQ8SsS"
      }
    },
    {
      "cell_type": "markdown",
      "source": [
        "13. What is a property decorator in Python?"
      ],
      "metadata": {
        "id": "gzpI4zxK8hJx"
      }
    },
    {
      "cell_type": "markdown",
      "source": [
        "A property decorator in Python is used to turn a method into a property, allowing method access using attribute syntax (i.e., without parentheses ()).\n",
        "\n",
        "It is used to implement encapsulation by hiding private variables and providing controlled access through getter, setter, and deleter methods.\n",
        "\n"
      ],
      "metadata": {
        "id": "IhZZ2DHM8nX2"
      }
    },
    {
      "cell_type": "markdown",
      "source": [
        "14. Why is polymorphism important in OOP?"
      ],
      "metadata": {
        "id": "EDVerktv88R4"
      }
    },
    {
      "cell_type": "markdown",
      "source": [
        "Polymorphism means \"many forms.\" It allows different classes to define methods with the same name that behave differently based on the object that is calling them.\n",
        "Polymorphism is important in OOP because it allows the same interface (method name) to represent different behaviors, making the code more flexible, reusable, and easier to maintain."
      ],
      "metadata": {
        "id": "j9GehdIq9GZ5"
      }
    },
    {
      "cell_type": "markdown",
      "source": [
        "15. What is an abstract class in Python?"
      ],
      "metadata": {
        "id": "qEnp8XWH9UzL"
      }
    },
    {
      "cell_type": "markdown",
      "source": [
        "An abstract class in Python is a class that cannot be instantiated directly and is meant to be inherited by other classes.\n",
        "It is used to define a common interface or structure that its child classes must follow.\n",
        "- Abstract methods (methods with no implementation)\n",
        "\n",
        "- Concrete methods (methods with implementation)"
      ],
      "metadata": {
        "id": "MorkPDAk9cXK"
      }
    },
    {
      "cell_type": "markdown",
      "source": [
        "16. What are the advantages of OOP?"
      ],
      "metadata": {
        "id": "WhQzF9SW9ofe"
      }
    },
    {
      "cell_type": "markdown",
      "source": [
        "1. Modularity\n",
        "– Programs are divided into smaller, manageable parts (classes/objects).\n",
        "2. Reusability\n",
        "– Code can be reused using inheritance, reducing redundancy.\n",
        "3. Encapsulation\n",
        "– Protects data by bundling it with related methods and restricting direct access.\n",
        "4. Abstraction\n",
        "– Hides complex implementation details and shows only essential features.\n",
        "5. Polymorphism\n",
        "– Allows the same function or method name to behave differently based on the object.\n",
        "6. Inheritance\n",
        "– Enables one class to acquire properties and behavior from another class."
      ],
      "metadata": {
        "id": "Dg6pBYAf9vVc"
      }
    },
    {
      "cell_type": "markdown",
      "source": [
        "17. What is the difference between a class variable and an instance variable?"
      ],
      "metadata": {
        "id": "K7PTq3p4-YRN"
      }
    },
    {
      "cell_type": "markdown",
      "source": [
        "1. Class Variable:\n",
        "- Declared inside the class, but outside all methods.\n",
        "\n",
        "- Shared by all objects of the class.\n",
        "\n",
        "- Changing the value affects all instances (unless overridden).\n",
        "\n",
        "- Used to store common values for all objects.\n",
        "\n",
        "- Can be accessed using the class name or object name.\n",
        "\n",
        "2. Instance Variable:\n",
        "- Declared inside the constructor (__init__) or other instance methods using self.\n",
        "\n",
        "- Unique to each object of the class.\n",
        "\n",
        "- Changing the value affects only that specific object.\n",
        "\n",
        "- Used to store object-specific data.\n",
        "\n",
        "- Accessed only using the object reference (self)."
      ],
      "metadata": {
        "id": "-weoiI86-fSO"
      }
    },
    {
      "cell_type": "markdown",
      "source": [
        "18. What is multiple inheritance in Python?"
      ],
      "metadata": {
        "id": "MGew4Epi_Igh"
      }
    },
    {
      "cell_type": "markdown",
      "source": [
        "Multiple inheritance is a feature in Python where a class can inherit attributes and methods from more than one parent class.\n",
        "\n",
        "In other words, a single child class can have multiple base classes.\n",
        "Multiple inheritance in Python is the process where a class can inherit features from more than one base class, allowing code reuse from multiple sources."
      ],
      "metadata": {
        "id": "URn7G5Hw_Oru"
      }
    },
    {
      "cell_type": "markdown",
      "source": [
        "19.  Explain the purpose of ‘’__str__’ and ‘__repr__’ ‘ methods in Python."
      ],
      "metadata": {
        "id": "pS6pbkDm2M44"
      }
    },
    {
      "cell_type": "markdown",
      "source": [
        "1. __str__() Method\n",
        "- Purpose: Returns a user-friendly, readable string representation of the object.\n",
        "\n",
        "- Used by: The print() function and str() function.\n",
        "\n",
        "- Goal: For end users — gives a nicely formatted description.\n",
        "\n",
        "2. __repr__() Method\n",
        "- Purpose: Returns a developer-oriented string representation of the object.\n",
        "\n",
        "- Used by: repr() function or when you type the object name directly in the shell.\n",
        "\n",
        "- Goal: For debugging/developers — should ideally be unambiguous and evaluable."
      ],
      "metadata": {
        "id": "RRoMNBC2_ids"
      }
    },
    {
      "cell_type": "markdown",
      "source": [
        "20. What is the significance of the ‘super()’ function in Python?"
      ],
      "metadata": {
        "id": "ie4Oixc9__zQ"
      }
    },
    {
      "cell_type": "markdown",
      "source": [
        "The super() function in Python is used to call a method from the parent class.\n",
        "It is mainly used in inheritance to access the parent class’s methods or constructor.\n",
        "- Significance:\n",
        "1. Avoids Code Duplication\n",
        "2. Supports Multiple Inheritance\n",
        "3. Improves Maintainability\n",
        "4. Common Use Case: Constructor Overriding"
      ],
      "metadata": {
        "id": "FmARBS8SAHEE"
      }
    },
    {
      "cell_type": "markdown",
      "source": [
        "21. What is the significance of the __del__ method in Python?"
      ],
      "metadata": {
        "id": "z4TGIqPjAgEE"
      }
    },
    {
      "cell_type": "markdown",
      "source": [
        "The __del__() method is a special method (also called a destructor) in Python.\n",
        "It is automatically called when an object is about to be destroyed, typically when it goes out of scope or is explicitly deleted using del.\n",
        "- Significance:\n",
        "1. Performs Cleanup Tasks\n",
        "2. Notifies Object Destruction\n",
        "3. Final Code Execution"
      ],
      "metadata": {
        "id": "CREGRGqBBKg9"
      }
    },
    {
      "cell_type": "markdown",
      "source": [
        "22.  What is the difference between @staticmethod and @classmethod in Python?"
      ],
      "metadata": {
        "id": "YJ954RL-Bkn4"
      }
    },
    {
      "cell_type": "markdown",
      "source": [
        "1. @staticmethod\n",
        "- A method that does not depend on object or class.\n",
        "\n",
        "- Does not take self or cls as the first argument.\n",
        "\n",
        "- Behaves like a regular function, but resides in the class's namespace.\n",
        "\n",
        "2. @classmethod\n",
        "- A method that takes cls as the first argument, referring to the class itself.\n",
        "\n",
        "- Can access and modify class-level variables or create new class instances."
      ],
      "metadata": {
        "id": "M6701If8Bq7_"
      }
    },
    {
      "cell_type": "markdown",
      "source": [
        "23. How does polymorphism work in Python with inheritance?"
      ],
      "metadata": {
        "id": "iLVi9O0xCDDM"
      }
    },
    {
      "cell_type": "markdown",
      "source": [
        "Polymorphism in Python means the same method name can behave differently depending on the object (or class) that calls it.\n",
        "When used with inheritance, it allows child classes to override methods of a parent class, enabling dynamic behavior.\n",
        "In Python, polymorphism with inheritance allows different classes to define methods with the same name, and the correct method is chosen at runtime based on the object type."
      ],
      "metadata": {
        "id": "7iEjYxv_CMPb"
      }
    },
    {
      "cell_type": "markdown",
      "source": [
        "24. What is method chaining in Python OOP?"
      ],
      "metadata": {
        "id": "V_NFMi2PCWG7"
      }
    },
    {
      "cell_type": "markdown",
      "source": [
        "Method chaining is a programming technique where multiple methods are called on the same object in a single line, one after another, using dot (.) notation.\n",
        "\n",
        "In Python OOP, this is achieved by having each method return self, so the next method can be called on the same object.\n",
        "\n",
        "Method chaining in Python is a technique where multiple methods are called sequentially on the same object, with each method returning self to enable the next call."
      ],
      "metadata": {
        "id": "3c4zV8AmCeq3"
      }
    },
    {
      "cell_type": "markdown",
      "source": [
        "25. What is the purpose of the __call__ method in Python?"
      ],
      "metadata": {
        "id": "jHTIJtmRCk7E"
      }
    },
    {
      "cell_type": "markdown",
      "source": [
        "The __call__() method in Python is a special (dunder) method that allows an object to be called like a function.\n",
        "\n",
        "When you write object(), Python automatically calls object.__call__().\n",
        "- Purpose:\n",
        "1. Make objects behave like functions\n",
        "– You can create objects that store state and still be callable like regular functions.\n",
        "\n",
        "2. Used in decorators, callbacks, and APIs\n",
        "– Very useful in function-like classes, machine learning models, and custom utilities.\n",
        "\n",
        "3. Improves readability and flexibility\n",
        "– Allows defining clean, reusable interfaces with function-call syntax."
      ],
      "metadata": {
        "id": "KYQh5bpFCwfS"
      }
    },
    {
      "cell_type": "markdown",
      "source": [
        "# **Practical Questions**"
      ],
      "metadata": {
        "id": "FWPQaK6SNjGI"
      }
    },
    {
      "cell_type": "markdown",
      "source": [
        "1. Create a parent class Animal with a method speak() that prints a generic message. Create a child class Dog\n",
        "that overrides the speak() method to print \"Bark!\"."
      ],
      "metadata": {
        "id": "F_YW8xmBNv-A"
      }
    },
    {
      "cell_type": "code",
      "source": [
        "class Animal:\n",
        "  def speak(self):\n",
        "    print(\"Generic Message\")\n",
        "\n",
        "class Dog(Animal):\n",
        "  def speak(self):\n",
        "    print(\"Bark!\")\n",
        "\n",
        "dog = Dog()\n",
        "dog.speak()"
      ],
      "metadata": {
        "colab": {
          "base_uri": "https://localhost:8080/"
        },
        "id": "pRi85Pi7OFpQ",
        "outputId": "0e962135-2ca0-4ebb-ad0f-bcaca0ccb1c6"
      },
      "execution_count": 2,
      "outputs": [
        {
          "output_type": "stream",
          "name": "stdout",
          "text": [
            "Bark!\n"
          ]
        }
      ]
    },
    {
      "cell_type": "markdown",
      "source": [
        "2. Write a program to create an abstract class Shape with a method area(). Derive classes Circle and Rectangle\n",
        "from it and implement the area() method in both."
      ],
      "metadata": {
        "id": "lZOb5Xg_Ovwm"
      }
    },
    {
      "cell_type": "code",
      "source": [
        "class Shape:\n",
        "  def area(self):\n",
        "    pass\n",
        "\n",
        "class Circle(Shape):\n",
        "  def __init__(self, radius):\n",
        "    self.radius = radius\n",
        "\n",
        "  def area(self):\n",
        "    return 3.14 * (self.radius ** 2)\n",
        "\n",
        "class Rectangle(Shape):\n",
        "  def __init__(self, length, width):\n",
        "    self.length = length\n",
        "    self.width = width\n",
        "\n",
        "  def area(self):\n",
        "    return self.length * self.width"
      ],
      "metadata": {
        "id": "XAl6r7RHQv5Z"
      },
      "execution_count": 3,
      "outputs": []
    },
    {
      "cell_type": "code",
      "source": [
        "c1 = Circle(5)\n",
        "print(c1.area())\n",
        "\n",
        "r1 = Rectangle(5, 10)\n",
        "print(r1.area())\n"
      ],
      "metadata": {
        "colab": {
          "base_uri": "https://localhost:8080/"
        },
        "id": "-j_yaE1DRPrP",
        "outputId": "7850fbd1-4a63-4603-cb33-b2d19003d9a8"
      },
      "execution_count": 4,
      "outputs": [
        {
          "output_type": "stream",
          "name": "stdout",
          "text": [
            "78.5\n",
            "50\n"
          ]
        }
      ]
    },
    {
      "cell_type": "markdown",
      "source": [
        "3.  Implement a multi-level inheritance scenario where a class Vehicle has an attribute type. Derive a class Car\n",
        "and further derive a class ElectricCar that adds a battery attribute."
      ],
      "metadata": {
        "id": "90FjLFSJRdYo"
      }
    },
    {
      "cell_type": "code",
      "source": [
        "class Vehicle:\n",
        "    def __init__(self, type):\n",
        "        self.type = type\n",
        "\n",
        "class Car(Vehicle):\n",
        "    def __init__(self, type, model):\n",
        "        super().__init__(type)\n",
        "        self.model = model\n",
        "\n",
        "class ElectricCar(Car):\n",
        "    def __init__(self, type, model, battery):\n",
        "        super().__init__(type, model)\n",
        "        self.battery = battery\n",
        "\n",
        "# Example usage:\n",
        "my_electric_car = ElectricCar(\"harier\", \"Ev\", \"70 kWh\")\n",
        "print(f\"Vehicle Type: {my_electric_car.type}\")\n",
        "print(f\"Car Model: {my_electric_car.model}\")\n",
        "print(f\"Battery Capacity: {my_electric_car.battery}\")"
      ],
      "metadata": {
        "colab": {
          "base_uri": "https://localhost:8080/"
        },
        "id": "HQch6XPPRiM9",
        "outputId": "47318a62-ee85-4719-dd43-77e0af57f2c5"
      },
      "execution_count": 8,
      "outputs": [
        {
          "output_type": "stream",
          "name": "stdout",
          "text": [
            "Vehicle Type: harier\n",
            "Car Model: Ev\n",
            "Battery Capacity: 70 kWh\n"
          ]
        }
      ]
    },
    {
      "cell_type": "markdown",
      "source": [
        "4. Demonstrate polymorphism by creating a base class Bird with a method fly(). Create two derived classes\n",
        "Sparrow and Penguin that override the fly() method.\n"
      ],
      "metadata": {
        "id": "XyGSd05DS18T"
      }
    },
    {
      "cell_type": "code",
      "source": [
        "\n",
        "class Bird:\n",
        "    def fly(self):\n",
        "        print(\"Birds can fly.\")\n",
        "\n",
        "class Sparrow(Bird):\n",
        "    def fly(self):\n",
        "        print(\"Sparrows can fly at high speeds.\")\n",
        "\n",
        "class Penguin(Bird):\n",
        "    def fly(self):\n",
        "        print(\"Penguins cannot fly, but they can swim.\")\n",
        "\n",
        "# Demonstrate polymorphism\n",
        "def bird_flight_test(bird):\n",
        "    bird.fly()\n",
        "\n",
        "sparrow = Sparrow()\n",
        "penguin = Penguin()\n",
        "\n",
        "bird_flight_test(sparrow)\n",
        "bird_flight_test(penguin)"
      ],
      "metadata": {
        "colab": {
          "base_uri": "https://localhost:8080/"
        },
        "id": "0dMwU9rwS6Sc",
        "outputId": "7f084f03-844c-4b01-ebf4-57b69b9836be"
      },
      "execution_count": 9,
      "outputs": [
        {
          "output_type": "stream",
          "name": "stdout",
          "text": [
            "Sparrows can fly at high speeds.\n",
            "Penguins cannot fly, but they can swim.\n"
          ]
        }
      ]
    },
    {
      "cell_type": "markdown",
      "source": [
        "5. Write a program to demonstrate encapsulation by creating a class BankAccount with private attributes\n",
        "balance and methods to deposit, withdraw, and check balance."
      ],
      "metadata": {
        "id": "9AqEpPjGTuOs"
      }
    },
    {
      "cell_type": "code",
      "source": [
        "class BankAccount:\n",
        "    def __init__(self, balance=0):\n",
        "        self.__balance = balance  # Private attribute\n",
        "\n",
        "    def deposit(self, amount):\n",
        "        if amount > 0:\n",
        "            self.__balance += amount\n",
        "            print(f\"Deposited: {amount}. New balance: {self.__balance}\")\n",
        "        else:\n",
        "            print(\"Deposit amount must be positive.\")\n",
        "\n",
        "    def withdraw(self, amount):\n",
        "        if 0 < amount <= self.__balance:\n",
        "            self.__balance -= amount\n",
        "            print(f\"Withdrew: {amount}. New balance: {self.__balance}\")\n",
        "        elif amount > self.__balance:\n",
        "            print(\"Insufficient funds.\")\n",
        "        else:\n",
        "            print(\"Withdrawal amount must be positive.\")\n",
        "\n",
        "    def check_balance(self):\n",
        "        print(f\"Current balance: {self.__balance}\")\n",
        "\n",
        "# Example usage:\n",
        "account = BankAccount(1000)\n",
        "account.deposit(500)\n",
        "account.withdraw(200)\n",
        "account.check_balance()\n",
        "account.withdraw(2000) # Attempt to withdraw more than balance"
      ],
      "metadata": {
        "colab": {
          "base_uri": "https://localhost:8080/"
        },
        "id": "84uHMgxgUG3D",
        "outputId": "ce44c991-ebad-4c50-c065-589a96d857b7"
      },
      "execution_count": 11,
      "outputs": [
        {
          "output_type": "stream",
          "name": "stdout",
          "text": [
            "Deposited: 500. New balance: 1500\n",
            "Withdrew: 200. New balance: 1300\n",
            "Current balance: 1300\n",
            "Insufficient funds.\n"
          ]
        }
      ]
    },
    {
      "cell_type": "markdown",
      "source": [
        "6. Demonstrate runtime polymorphism using a method play() in a base class Instrument. Derive classes Guitar\n",
        "and Piano that implement their own version of play()."
      ],
      "metadata": {
        "id": "Y3_744TGUkIP"
      }
    },
    {
      "cell_type": "code",
      "source": [
        "class Instrument:\n",
        "  def play(self):\n",
        "    pass\n",
        "\n",
        "class Guitar(Instrument):\n",
        "  def play(self):\n",
        "    print(\"Guitar is playing\")\n",
        "\n",
        "class Piano(Instrument):\n",
        "  def play(self):\n",
        "    print(\"Piano is playing\")\n",
        "\n",
        "def play_instrument(instrument):\n",
        "  instrument.play()"
      ],
      "metadata": {
        "id": "3VIzgVEuUqYR"
      },
      "execution_count": 12,
      "outputs": []
    },
    {
      "cell_type": "code",
      "source": [
        "ins1 = Guitar()\n",
        "ins2 = Piano()\n",
        "\n",
        "play_instrument(ins1)\n",
        "play_instrument(ins2)"
      ],
      "metadata": {
        "colab": {
          "base_uri": "https://localhost:8080/"
        },
        "id": "JqwFIXURVCVO",
        "outputId": "70f8b579-e091-4ee8-e7f9-64ba598dd99f"
      },
      "execution_count": 13,
      "outputs": [
        {
          "output_type": "stream",
          "name": "stdout",
          "text": [
            "Guitar is playing\n",
            "Piano is playing\n"
          ]
        }
      ]
    },
    {
      "cell_type": "markdown",
      "source": [
        "7. Create a class MathOperations with a class method add_numbers() to add two numbers and a static\n",
        "method subtract_numbers() to subtract two numbers."
      ],
      "metadata": {
        "id": "J54vT2JaVJNN"
      }
    },
    {
      "cell_type": "code",
      "source": [
        "class MathOperations:\n",
        "  @classmethod\n",
        "  def add_numbers(cls, a, b):\n",
        "    return a + b\n",
        "\n",
        "  @staticmethod\n",
        "  def subtract_numbers(a, b):\n",
        "    return a - b"
      ],
      "metadata": {
        "id": "B92ZHrFJVN26"
      },
      "execution_count": 14,
      "outputs": []
    },
    {
      "cell_type": "code",
      "source": [
        "m1 = MathOperations()\n",
        "m1.add_numbers(5, 10)\n",
        "\n"
      ],
      "metadata": {
        "colab": {
          "base_uri": "https://localhost:8080/"
        },
        "id": "lXqjueocVfuh",
        "outputId": "e4ac07f9-9996-47e9-b06f-df4f559e3196"
      },
      "execution_count": 17,
      "outputs": [
        {
          "output_type": "execute_result",
          "data": {
            "text/plain": [
              "15"
            ]
          },
          "metadata": {},
          "execution_count": 17
        }
      ]
    },
    {
      "cell_type": "code",
      "source": [
        "m2 = MathOperations()\n",
        "m2.subtract_numbers(10,5)"
      ],
      "metadata": {
        "colab": {
          "base_uri": "https://localhost:8080/"
        },
        "id": "PRR88VAsVzbk",
        "outputId": "075e7a72-7535-4d8b-e3a8-a8f5291ff39e"
      },
      "execution_count": 20,
      "outputs": [
        {
          "output_type": "execute_result",
          "data": {
            "text/plain": [
              "5"
            ]
          },
          "metadata": {},
          "execution_count": 20
        }
      ]
    },
    {
      "cell_type": "markdown",
      "source": [
        "8.  Implement a class Person with a class method to count the total number of persons created."
      ],
      "metadata": {
        "id": "iMKxSSn7WBBu"
      }
    },
    {
      "cell_type": "code",
      "source": [
        "class Person:\n",
        "  count = 0\n",
        "\n",
        "  def __init__(self, name):\n",
        "    self.name = name\n",
        "    Person.count += 1\n",
        "\n",
        "  @classmethod\n",
        "  def get_count(cls):\n",
        "    return cls.count"
      ],
      "metadata": {
        "id": "Y9w4dNoAV9qb"
      },
      "execution_count": 21,
      "outputs": []
    },
    {
      "cell_type": "code",
      "source": [
        "c1 = Person(\"A\")\n",
        "c2 = Person(\"B\")\n",
        "c3 = Person(\"C\")\n",
        "\n",
        "print(Person.get_count())"
      ],
      "metadata": {
        "colab": {
          "base_uri": "https://localhost:8080/"
        },
        "id": "n5MbKHazWc8G",
        "outputId": "139c634d-c86d-4c43-b1ac-93a624fe1848"
      },
      "execution_count": 22,
      "outputs": [
        {
          "output_type": "stream",
          "name": "stdout",
          "text": [
            "3\n"
          ]
        }
      ]
    },
    {
      "cell_type": "markdown",
      "source": [
        "9.  Write a class Fraction with attributes numerator and denominator. Override the str method to display the\n",
        "fraction as \"numerator/denominator\"."
      ],
      "metadata": {
        "id": "htLWlwjMWp1m"
      }
    },
    {
      "cell_type": "code",
      "source": [
        "class Fraction:\n",
        "  def __init__(self, numerator, denominator):\n",
        "    self.numerator = numerator\n",
        "    self.denominator = denominator\n",
        "\n",
        "  def __str__(self):\n",
        "    return f\"{self.numerator}/{self.denominator}\""
      ],
      "metadata": {
        "id": "LRE9VFFIWtxa"
      },
      "execution_count": 23,
      "outputs": []
    },
    {
      "cell_type": "code",
      "source": [
        "f1 = Fraction(1, 2)\n",
        "print(f1)"
      ],
      "metadata": {
        "colab": {
          "base_uri": "https://localhost:8080/"
        },
        "id": "zsre8mqsW3eO",
        "outputId": "6a2281dd-75f6-4bd9-d60d-897b5787fb70"
      },
      "execution_count": 24,
      "outputs": [
        {
          "output_type": "stream",
          "name": "stdout",
          "text": [
            "1/2\n"
          ]
        }
      ]
    },
    {
      "cell_type": "markdown",
      "source": [
        "10.  Demonstrate operator overloading by creating a class Vector and overriding the add method to add two\n",
        "vectors."
      ],
      "metadata": {
        "id": "diY_yaUpW-1Q"
      }
    },
    {
      "cell_type": "code",
      "source": [
        "class Vector:\n",
        "  def __init__(self, x, y):\n",
        "    self.x = x\n",
        "    self.y = y\n",
        "\n",
        "  def __add__(self, other):\n",
        "    return Vector(self.x + other.x, self.y + other.y)"
      ],
      "metadata": {
        "id": "4PUkflAaXEYa"
      },
      "execution_count": 25,
      "outputs": []
    },
    {
      "cell_type": "code",
      "source": [
        "c1 = Vector(1, 2)\n",
        "c2 = Vector(3, 4)\n",
        "\n",
        "c3 = c1 + c2\n",
        "print(c3.x, c3.y)"
      ],
      "metadata": {
        "colab": {
          "base_uri": "https://localhost:8080/"
        },
        "id": "xEkW6mcFXVvA",
        "outputId": "1bb3fb32-9f56-4aed-aca8-1aebedf9a8bf"
      },
      "execution_count": 26,
      "outputs": [
        {
          "output_type": "stream",
          "name": "stdout",
          "text": [
            "4 6\n"
          ]
        }
      ]
    },
    {
      "cell_type": "markdown",
      "source": [
        "11. Create a class Person with attributes name and age. Add a method greet() that prints \"Hello, my name is\n",
        "{name} and I am {age} years old.\""
      ],
      "metadata": {
        "id": "47QQVzDhXjeU"
      }
    },
    {
      "cell_type": "code",
      "source": [
        "class Person:\n",
        "  def __init__(self, name, age):\n",
        "    self.name = name\n",
        "    self.age = age\n",
        "\n",
        "  def greet(self):\n",
        "      print(f\"Hello, my name is {self.name} and I am {self.age} years old.\")"
      ],
      "metadata": {
        "id": "3_3cq4y3Yl0M"
      },
      "execution_count": 27,
      "outputs": []
    },
    {
      "cell_type": "code",
      "source": [
        "p1 = Person(\"Nilesh\", 22)\n",
        "p1.greet()"
      ],
      "metadata": {
        "colab": {
          "base_uri": "https://localhost:8080/"
        },
        "id": "lvpfUPthZB71",
        "outputId": "858cb814-bf31-4e1d-ee35-4467b2d1f771"
      },
      "execution_count": 29,
      "outputs": [
        {
          "output_type": "stream",
          "name": "stdout",
          "text": [
            "Hello, my name is Nilesh and I am 22 years old.\n"
          ]
        }
      ]
    },
    {
      "cell_type": "markdown",
      "source": [
        "12.  Implement a class Student with attributes name and grades. Create a method average_grade() to compute\n",
        "the average of the grades."
      ],
      "metadata": {
        "id": "gHiZ9baRZQVk"
      }
    },
    {
      "cell_type": "code",
      "source": [
        "class Student:\n",
        "  def __init__(self, name, grades):\n",
        "    self.name= name\n",
        "    self.grades= grades\n",
        "\n",
        "  def average_grade(self):\n",
        "    return sum(self.grades) / len(self.grades)"
      ],
      "metadata": {
        "id": "n1ts21aiZKrJ"
      },
      "execution_count": 30,
      "outputs": []
    },
    {
      "cell_type": "code",
      "source": [
        "s1 = Student(\"Nilesh\", [10, 20, 30])\n",
        "s1.average_grade()\n"
      ],
      "metadata": {
        "colab": {
          "base_uri": "https://localhost:8080/"
        },
        "id": "H8C8RV0zaFH4",
        "outputId": "753b7cbb-ed14-4bca-cf64-ea600a64a387"
      },
      "execution_count": 31,
      "outputs": [
        {
          "output_type": "execute_result",
          "data": {
            "text/plain": [
              "20.0"
            ]
          },
          "metadata": {},
          "execution_count": 31
        }
      ]
    },
    {
      "cell_type": "markdown",
      "source": [
        "13. Create a class Rectangle with methods set_dimensions() to set the dimensions and area() to calculate the\n",
        "area."
      ],
      "metadata": {
        "id": "BaTniDghafeF"
      }
    },
    {
      "cell_type": "code",
      "source": [
        "class Rectangle:\n",
        "  def __init__(self, length, width):\n",
        "    self.length = length\n",
        "    self.width = width\n",
        "\n",
        "  def set_dimensions(self, length, width):\n",
        "    self.length = length\n",
        "    self.width = width\n",
        "\n",
        "  def area(self):\n",
        "    return self.length * self.width"
      ],
      "metadata": {
        "id": "pEIuIMzxal3F"
      },
      "execution_count": 34,
      "outputs": []
    },
    {
      "cell_type": "code",
      "source": [
        "a1 = Rectangle(5, 10)\n",
        "a1.area()"
      ],
      "metadata": {
        "colab": {
          "base_uri": "https://localhost:8080/"
        },
        "id": "T5z6RqG_bilk",
        "outputId": "663bcc4c-f13f-4227-f849-83f78bdead0e"
      },
      "execution_count": 35,
      "outputs": [
        {
          "output_type": "execute_result",
          "data": {
            "text/plain": [
              "50"
            ]
          },
          "metadata": {},
          "execution_count": 35
        }
      ]
    },
    {
      "cell_type": "markdown",
      "source": [
        "14. Create a class Employee with a method calculate_salary() that computes the salary based on hours worked\n",
        "and hourly rate. Create a derived class Manager that adds a bonus to the salary."
      ],
      "metadata": {
        "id": "MJ7Iru0Cb71D"
      }
    },
    {
      "cell_type": "code",
      "source": [
        "class Employee:\n",
        "    def __init__(self, name, hours_worked, hourly_rate):\n",
        "        self.name = name\n",
        "        self.hours_worked = hours_worked\n",
        "        self.hourly_rate = hourly_rate\n",
        "\n",
        "    def calculate_salary(self):\n",
        "        return self.hours_worked * self.hourly_rate\n",
        "\n",
        "class Manager(Employee):\n",
        "    def __init__(self, name, hours_worked, hourly_rate, bonus):\n",
        "        super().__init__(name, hours_worked, hourly_rate)\n",
        "        self.bonus = bonus\n",
        "\n",
        "    def calculate_salary(self):\n",
        "        return super().calculate_salary() + self.bonus\n",
        "\n",
        "# Example usage:\n",
        "emp1 = Employee(\"Nilesh\", 40, 100)\n",
        "print(f\"{emp1.name}'s salary: {emp1.calculate_salary()}\")\n",
        "\n",
        "mgr1 = Manager(\"Nilesh\", 40, 100, 500)\n",
        "print(f\"{mgr1.name}'s salary: {mgr1.calculate_salary()}\")"
      ],
      "metadata": {
        "colab": {
          "base_uri": "https://localhost:8080/"
        },
        "id": "KWnPs3nkdEfS",
        "outputId": "40abc440-2717-4757-d4a8-d2ed0e9edba1"
      },
      "execution_count": 51,
      "outputs": [
        {
          "output_type": "stream",
          "name": "stdout",
          "text": [
            "Nilesh's salary: 4000\n",
            "Nilesh's salary: 4500\n"
          ]
        }
      ]
    },
    {
      "cell_type": "markdown",
      "source": [
        "15. Create a class Product with attributes name, price, and quantity. Implement a method total_price() that\n",
        "calculates the total price of the product."
      ],
      "metadata": {
        "id": "6ns8pzDeexN4"
      }
    },
    {
      "cell_type": "code",
      "source": [
        "class Product:\n",
        "  def __init__(self, name, price, quantity):\n",
        "    self.name = name\n",
        "    self.price = price\n",
        "    self.quantity = quantity\n",
        "\n",
        "  def total_price(self):\n",
        "      return self.price * self.quantity\n",
        "\n",
        "\n"
      ],
      "metadata": {
        "id": "IR862mmje2ff"
      },
      "execution_count": 60,
      "outputs": []
    },
    {
      "cell_type": "code",
      "source": [
        "p1 = Product(\"laptop\", 10000, 2)\n",
        "print(f\"Total price of {p1.name}: {p1.total_price()}\")"
      ],
      "metadata": {
        "colab": {
          "base_uri": "https://localhost:8080/"
        },
        "id": "vB8HGu45fcLC",
        "outputId": "93f6dda2-8c46-4675-f7c3-b9126aba85f3"
      },
      "execution_count": 61,
      "outputs": [
        {
          "output_type": "stream",
          "name": "stdout",
          "text": [
            "Total price of laptop: 20000\n"
          ]
        }
      ]
    },
    {
      "cell_type": "markdown",
      "source": [
        "16. Create a class Animal with an abstract method sound(). Create two derived classes Cow and Sheep that\n",
        "implement the sound() method."
      ],
      "metadata": {
        "id": "z_WRObFEgtR6"
      }
    },
    {
      "cell_type": "code",
      "source": [
        "from abc import ABC, abstractmethod\n",
        "class Animal:\n",
        "  @abstractmethod\n",
        "  def sound(self):\n",
        "    pass\n",
        "\n",
        "class Cow(Animal):\n",
        "  def sound(self):\n",
        "    print(\"Moo!\")\n",
        "\n",
        "class Sheep(Animal):\n",
        "  def sound(self):\n",
        "    print(\"Baa!\")\n",
        "\n"
      ],
      "metadata": {
        "id": "nrNbQ-nkgx5s"
      },
      "execution_count": 64,
      "outputs": []
    },
    {
      "cell_type": "code",
      "source": [
        "cow = Cow()\n",
        "cow.sound()\n",
        "\n",
        "sheep = Sheep()\n",
        "sheep.sound()"
      ],
      "metadata": {
        "colab": {
          "base_uri": "https://localhost:8080/"
        },
        "id": "RAjcz1bQhEbH",
        "outputId": "9287ae18-4728-4ea4-fbbe-6aa9c1e198a1"
      },
      "execution_count": 65,
      "outputs": [
        {
          "output_type": "stream",
          "name": "stdout",
          "text": [
            "Moo!\n",
            "Baa!\n"
          ]
        }
      ]
    },
    {
      "cell_type": "markdown",
      "source": [
        "17. Create a class Book with attributes title, author, and year_published. Add a method get_book_info() that\n",
        "returns a formatted string with the book's details."
      ],
      "metadata": {
        "id": "RqJ32ehchgSq"
      }
    },
    {
      "cell_type": "code",
      "source": [
        "class Book:\n",
        "  def __init__(self, title, author, year_published):\n",
        "    self.title = title\n",
        "    self.author = author\n",
        "    self.year_published = year_published\n",
        "\n",
        "  def get_book_info(self):\n",
        "      return f\"Title: {self.title}\\nAuthor: {self.author}\\nYear Published: {self.year_published}\""
      ],
      "metadata": {
        "id": "1GDNoErDhkVY"
      },
      "execution_count": 66,
      "outputs": []
    },
    {
      "cell_type": "code",
      "source": [
        "b1 = Book(\"Python\", \"Nilesh\", 2023)\n",
        "print(b1.get_book_info())"
      ],
      "metadata": {
        "colab": {
          "base_uri": "https://localhost:8080/"
        },
        "id": "EHmEOOcZiEqm",
        "outputId": "b638c0b2-863a-4804-f48a-c6f0c5fb9cd8"
      },
      "execution_count": 67,
      "outputs": [
        {
          "output_type": "stream",
          "name": "stdout",
          "text": [
            "Title: Python\n",
            "Author: Nilesh\n",
            "Year Published: 2023\n"
          ]
        }
      ]
    },
    {
      "cell_type": "markdown",
      "source": [
        "18.  Create a class House with attributes address and price. Create a derived class Mansion that adds an\n",
        "attribute number_of_rooms."
      ],
      "metadata": {
        "id": "XWOQsUBGiO5i"
      }
    },
    {
      "cell_type": "code",
      "source": [
        "class House:\n",
        "  def __init__(self, address, price):\n",
        "    self.address = address\n",
        "    self.price = price\n",
        "\n",
        "class Mansion(House):\n",
        "  def  __init__(self, address, price, number_of_rooms):\n",
        "    super().__init__(address,price)\n",
        "    self.number_of_rooms = number_of_rooms\n",
        ""
      ],
      "metadata": {
        "id": "fa7LeC_siOIN"
      },
      "execution_count": 68,
      "outputs": []
    },
    {
      "cell_type": "code",
      "source": [
        "my_mansion = Mansion(\"123 Luxury Lane\", 5000000, 20)\n",
        "print(f\"Address: {my_mansion.address}\")\n",
        "print(f\"Price: {my_mansion.price}\")\n",
        "print(f\"Number of Rooms: {my_mansion.number_of_rooms}\")"
      ],
      "metadata": {
        "colab": {
          "base_uri": "https://localhost:8080/"
        },
        "id": "DKUddh92jeEJ",
        "outputId": "c51835e0-2ecc-408a-b760-42d2a70070b6"
      },
      "execution_count": 69,
      "outputs": [
        {
          "output_type": "stream",
          "name": "stdout",
          "text": [
            "Address: 123 Luxury Lane\n",
            "Price: 5000000\n",
            "Number of Rooms: 20\n"
          ]
        }
      ]
    }
  ]
}